{
 "cells": [
  {
   "cell_type": "code",
   "execution_count": null,
   "id": "419f7910",
   "metadata": {
    "execution": {
     "iopub.execute_input": "2023-07-12T08:35:44.148895Z",
     "iopub.status.busy": "2023-07-12T08:35:44.148515Z",
     "iopub.status.idle": "2023-07-12T08:36:08.404438Z",
     "shell.execute_reply": "2023-07-12T08:36:08.404766Z"
    },
    "papermill": {
     "duration": 24.274281,
     "end_time": "2023-07-12T08:36:08.404890",
     "exception": false,
     "start_time": "2023-07-12T08:35:44.130609",
     "status": "completed"
    },
    "tags": []
   },
   "outputs": [
    {
     "ename": "",
     "evalue": "",
     "output_type": "error",
     "traceback": [
      "\u001b[1;31mRunning cells with '/usr/bin/python' requires the ipykernel package.\n",
      "\u001b[1;31mRun the following command to install 'ipykernel' into the Python environment. \n",
      "\u001b[1;31mCommand: '/usr/bin/python -m pip install ipykernel -U --user --force-reinstall'"
     ]
    }
   ],
   "source": [
    "import os\n",
    "import pandas as pd\n",
    "import numpy as np\n",
    "import matplotlib.pyplot as plt\n",
    "import seaborn as sns\n",
    "from tqdm import tqdm\n",
    "import sys\n",
    "\n",
    "from sklearn.metrics import roc_curve\n",
    "from sklearn.metrics import precision_recall_curve\n",
    "from sklearn.metrics import auc\n",
    "from sklearn.metrics import classification_report\n",
    "from sklearn.metrics import accuracy_score\n",
    "from sklearn.metrics import balanced_accuracy_score\n",
    "from sklearn.metrics import recall_score"
   ]
  },
  {
   "cell_type": "markdown",
   "id": "7fc61f9d",
   "metadata": {
    "papermill": {
     "duration": 0.01344,
     "end_time": "2023-07-12T08:36:08.435414",
     "exception": false,
     "start_time": "2023-07-12T08:36:08.421974",
     "status": "completed"
    },
    "tags": []
   },
   "source": [
    "# Prediction performance evaluation"
   ]
  },
  {
   "cell_type": "code",
   "execution_count": null,
   "id": "9fe65618",
   "metadata": {
    "execution": {
     "iopub.execute_input": "2023-07-12T08:36:08.477636Z",
     "iopub.status.busy": "2023-07-12T08:36:08.477256Z",
     "iopub.status.idle": "2023-07-12T08:36:08.798180Z",
     "shell.execute_reply": "2023-07-12T08:36:08.797828Z"
    },
    "papermill": {
     "duration": 0.349803,
     "end_time": "2023-07-12T08:36:08.798279",
     "exception": false,
     "start_time": "2023-07-12T08:36:08.448476",
     "status": "completed"
    },
    "tags": []
   },
   "outputs": [
    {
     "ename": "",
     "evalue": "",
     "output_type": "error",
     "traceback": [
      "\u001b[1;31mRunning cells with '/usr/bin/python' requires the ipykernel package.\n",
      "\u001b[1;31mRun the following command to install 'ipykernel' into the Python environment. \n",
      "\u001b[1;31mCommand: '/usr/bin/python -m pip install ipykernel -U --user --force-reinstall'"
     ]
    }
   ],
   "source": [
    "df = pd.read_csv('/rds/general/user/sea22/ephemeral/datafiles/chexpert/CheXpert-v1.0/chexpert.resample.test.csv')\n",
    "\n",
    "white = 'White'\n",
    "asian = 'Asian'\n",
    "black = 'Black'"
   ]
  },
  {
   "cell_type": "markdown",
   "id": "ee2ab8a5",
   "metadata": {
    "papermill": {
     "duration": 0.01442,
     "end_time": "2023-07-12T08:36:08.827307",
     "exception": false,
     "start_time": "2023-07-12T08:36:08.812887",
     "status": "completed"
    },
    "tags": []
   },
   "source": [
    "## Race classification"
   ]
  },
  {
   "cell_type": "code",
   "execution_count": null,
   "id": "178e90e1",
   "metadata": {
    "execution": {
     "iopub.execute_input": "2023-07-12T08:36:08.860800Z",
     "iopub.status.busy": "2023-07-12T08:36:08.860412Z",
     "iopub.status.idle": "2023-07-12T08:36:09.070984Z",
     "shell.execute_reply": "2023-07-12T08:36:09.070630Z"
    },
    "papermill": {
     "duration": 0.228795,
     "end_time": "2023-07-12T08:36:09.071081",
     "exception": false,
     "start_time": "2023-07-12T08:36:08.842286",
     "status": "completed"
    },
    "tags": []
   },
   "outputs": [
    {
     "ename": "",
     "evalue": "",
     "output_type": "error",
     "traceback": [
      "\u001b[1;31mRunning cells with '/usr/bin/python' requires the ipykernel package.\n",
      "\u001b[1;31mRun the following command to install 'ipykernel' into the Python environment. \n",
      "\u001b[1;31mCommand: '/usr/bin/python -m pip install ipykernel -U --user --force-reinstall'"
     ]
    }
   ],
   "source": [
    "data_dir = '/homes/sea22/MSC_PROJECT/main/chex-aIchemy/train/results/densenet-imagenet-None-0.0001-test/'\n",
    "cnn_pred_race = pd.read_csv(data_dir + 'predictions_test_race.csv')"
   ]
  },
  {
   "cell_type": "code",
   "execution_count": null,
   "id": "30743ef9",
   "metadata": {
    "execution": {
     "iopub.execute_input": "2023-07-12T08:36:09.104086Z",
     "iopub.status.busy": "2023-07-12T08:36:09.103708Z",
     "iopub.status.idle": "2023-07-12T08:36:09.105944Z",
     "shell.execute_reply": "2023-07-12T08:36:09.106238Z"
    },
    "papermill": {
     "duration": 0.019866,
     "end_time": "2023-07-12T08:36:09.106318",
     "exception": false,
     "start_time": "2023-07-12T08:36:09.086452",
     "status": "completed"
    },
    "tags": []
   },
   "outputs": [
    {
     "ename": "",
     "evalue": "",
     "output_type": "error",
     "traceback": [
      "\u001b[1;31mRunning cells with '/usr/bin/python' requires the ipykernel package.\n",
      "\u001b[1;31mRun the following command to install 'ipykernel' into the Python environment. \n",
      "\u001b[1;31mCommand: '/usr/bin/python -m pip install ipykernel -U --user --force-reinstall'"
     ]
    }
   ],
   "source": [
    "preds_race = np.stack([cnn_pred_race['class_0'],cnn_pred_race['class_1'],cnn_pred_race['class_2']]).transpose()\n",
    "targets_race = np.array(cnn_pred_race['target'])"
   ]
  },
  {
   "cell_type": "code",
   "execution_count": null,
   "id": "cf50703f",
   "metadata": {
    "execution": {
     "iopub.execute_input": "2023-07-12T08:36:09.141730Z",
     "iopub.status.busy": "2023-07-12T08:36:09.141351Z",
     "iopub.status.idle": "2023-07-12T08:36:09.901735Z",
     "shell.execute_reply": "2023-07-12T08:36:09.902061Z"
    },
    "papermill": {
     "duration": 0.782199,
     "end_time": "2023-07-12T08:36:09.902177",
     "exception": false,
     "start_time": "2023-07-12T08:36:09.119978",
     "status": "completed"
    },
    "tags": []
   },
   "outputs": [
    {
     "ename": "",
     "evalue": "",
     "output_type": "error",
     "traceback": [
      "\u001b[1;31mRunning cells with '/usr/bin/python' requires the ipykernel package.\n",
      "\u001b[1;31mRun the following command to install 'ipykernel' into the Python environment. \n",
      "\u001b[1;31mCommand: '/usr/bin/python -m pip install ipykernel -U --user --force-reinstall'"
     ]
    }
   ],
   "source": [
    "# WHITE\n",
    "pos_label = 0\n",
    "y = np.array(targets_race)\n",
    "y[targets_race != pos_label] = 0\n",
    "y[targets_race == pos_label] = 1\n",
    "fpr_w, tpr_w, _ = roc_curve(y, preds_race[:,pos_label])\n",
    "roc_auc_w = auc(fpr_w, tpr_w)\n",
    "\n",
    "# ASIAN\n",
    "pos_label = 1\n",
    "y = np.array(targets_race)\n",
    "y[targets_race != pos_label] = 0\n",
    "y[targets_race == pos_label] = 1\n",
    "fpr_a, tpr_a, _ = roc_curve(y, preds_race[:,pos_label])\n",
    "roc_auc_a = auc(fpr_a, tpr_a)\n",
    "\n",
    "# BLACK\n",
    "pos_label = 2\n",
    "y = np.array(targets_race)\n",
    "y[targets_race != pos_label] = 0\n",
    "y[targets_race == pos_label] = 1\n",
    "fpr_b, tpr_b, _ = roc_curve(y, preds_race[:,pos_label])\n",
    "roc_auc_b = auc(fpr_b, tpr_b)\n",
    "\n",
    "fig, ax = plt.subplots(figsize=(7,4))\n",
    "plt.plot(fpr_w, tpr_w, lw=1.5, alpha=.8, label='White AUC=%0.2f' % roc_auc_w)\n",
    "plt.plot(fpr_a, tpr_a, lw=1.5, alpha=.8, label='Asian AUC=%0.2f' % roc_auc_a)\n",
    "plt.plot(fpr_b, tpr_b, lw=1.5, alpha=.8, label='Black AUC=%0.2f' % roc_auc_b)\n",
    "ax.plot([0, 1], [0, 1], linestyle='--', lw=1.5, color='k', label='Chance', alpha=.8)\n",
    "plt.xlabel('False Positive Rate', fontsize=14)\n",
    "plt.ylabel('True Positive Rate', fontsize=14)\n",
    "plt.legend(loc=\"lower right\", fontsize=12)\n",
    "plt.title('Race Classification', fontsize=14)\n",
    "ax.set(xlim=[-0.05, 1.05], ylim=[-0.05, 1.05])\n",
    "\n",
    "plt.show()\n",
    "\n",
    "# fig.savefig(\"CNN-race.png\", bbox_inches='tight', dpi=300)"
   ]
  },
  {
   "cell_type": "markdown",
   "id": "3d4efc50",
   "metadata": {
    "papermill": {
     "duration": 0.047261,
     "end_time": "2023-07-12T08:36:09.995767",
     "exception": false,
     "start_time": "2023-07-12T08:36:09.948506",
     "status": "completed"
    },
    "tags": []
   },
   "source": [
    "## Sex classification"
   ]
  },
  {
   "cell_type": "code",
   "execution_count": null,
   "id": "83227161",
   "metadata": {
    "execution": {
     "iopub.execute_input": "2023-07-12T08:36:10.058880Z",
     "iopub.status.busy": "2023-07-12T08:36:10.058137Z",
     "iopub.status.idle": "2023-07-12T08:36:10.447202Z",
     "shell.execute_reply": "2023-07-12T08:36:10.446832Z"
    },
    "papermill": {
     "duration": 0.421947,
     "end_time": "2023-07-12T08:36:10.447295",
     "exception": false,
     "start_time": "2023-07-12T08:36:10.025348",
     "status": "completed"
    },
    "tags": []
   },
   "outputs": [
    {
     "ename": "",
     "evalue": "",
     "output_type": "error",
     "traceback": [
      "\u001b[1;31mRunning cells with '/usr/bin/python' requires the ipykernel package.\n",
      "\u001b[1;31mRun the following command to install 'ipykernel' into the Python environment. \n",
      "\u001b[1;31mCommand: '/usr/bin/python -m pip install ipykernel -U --user --force-reinstall'"
     ]
    }
   ],
   "source": [
    "data_dir = '/homes/sea22/MSC_PROJECT/main/chex-aIchemy/train/results/densenet-imagenet-None-0.0001-test/'\n",
    "cnn_pred_sex = pd.read_csv(data_dir + 'predictions_test_sex.csv')\n",
    "\n",
    "# for subgroup analysis\n",
    "cnn_pred_sex['race'] = df['race']\n",
    "cnn_pred_sex_w = cnn_pred_sex[cnn_pred_sex['race'] == white]\n",
    "cnn_pred_sex_a = cnn_pred_sex[cnn_pred_sex['race'] == asian]\n",
    "cnn_pred_sex_b = cnn_pred_sex[cnn_pred_sex['race'] == black]"
   ]
  },
  {
   "cell_type": "code",
   "execution_count": null,
   "id": "820aaf8f",
   "metadata": {
    "execution": {
     "iopub.execute_input": "2023-07-12T08:36:10.502884Z",
     "iopub.status.busy": "2023-07-12T08:36:10.502472Z",
     "iopub.status.idle": "2023-07-12T08:36:10.522040Z",
     "shell.execute_reply": "2023-07-12T08:36:10.522366Z"
    },
    "papermill": {
     "duration": 0.042108,
     "end_time": "2023-07-12T08:36:10.522465",
     "exception": false,
     "start_time": "2023-07-12T08:36:10.480357",
     "status": "completed"
    },
    "tags": []
   },
   "outputs": [
    {
     "ename": "",
     "evalue": "",
     "output_type": "error",
     "traceback": [
      "\u001b[1;31mRunning cells with '/usr/bin/python' requires the ipykernel package.\n",
      "\u001b[1;31mRun the following command to install 'ipykernel' into the Python environment. \n",
      "\u001b[1;31mCommand: '/usr/bin/python -m pip install ipykernel -U --user --force-reinstall'"
     ]
    }
   ],
   "source": [
    "preds_sex = np.stack([cnn_pred_sex_w['class_0'],cnn_pred_sex_w['class_1']]).transpose()\n",
    "targets_sex = np.array(cnn_pred_sex_w['target'])\n",
    "fpr_w, tpr_w, _ = roc_curve(targets_sex, preds_sex[:,1])\n",
    "roc_auc_w = auc(fpr_w, tpr_w)\n",
    "\n",
    "preds_sex = np.stack([cnn_pred_sex_a['class_0'],cnn_pred_sex_a['class_1']]).transpose()\n",
    "targets_sex = np.array(cnn_pred_sex_a['target'])\n",
    "fpr_a, tpr_a, _ = roc_curve(targets_sex, preds_sex[:,1])\n",
    "roc_auc_a = auc(fpr_a, tpr_a)\n",
    "\n",
    "preds_sex = np.stack([cnn_pred_sex_b['class_0'],cnn_pred_sex_b['class_1']]).transpose()\n",
    "targets_sex = np.array(cnn_pred_sex_b['target'])\n",
    "fpr_b, tpr_b, _ = roc_curve(targets_sex, preds_sex[:,1])\n",
    "roc_auc_b = auc(fpr_b, tpr_b)"
   ]
  },
  {
   "cell_type": "code",
   "execution_count": null,
   "id": "913f12cc",
   "metadata": {
    "execution": {
     "iopub.execute_input": "2023-07-12T08:36:10.566852Z",
     "iopub.status.busy": "2023-07-12T08:36:10.559880Z",
     "iopub.status.idle": "2023-07-12T08:36:10.930406Z",
     "shell.execute_reply": "2023-07-12T08:36:10.930722Z"
    },
    "papermill": {
     "duration": 0.393242,
     "end_time": "2023-07-12T08:36:10.930836",
     "exception": false,
     "start_time": "2023-07-12T08:36:10.537594",
     "status": "completed"
    },
    "tags": []
   },
   "outputs": [
    {
     "ename": "",
     "evalue": "",
     "output_type": "error",
     "traceback": [
      "\u001b[1;31mRunning cells with '/usr/bin/python' requires the ipykernel package.\n",
      "\u001b[1;31mRun the following command to install 'ipykernel' into the Python environment. \n",
      "\u001b[1;31mCommand: '/usr/bin/python -m pip install ipykernel -U --user --force-reinstall'"
     ]
    }
   ],
   "source": [
    "fig, ax = plt.subplots()\n",
    "plt.plot(fpr_w, tpr_w, lw=1.5, alpha=.8, label='White AUC=%0.2f' % roc_auc_w)\n",
    "plt.plot(fpr_a, tpr_a, lw=1.5, alpha=.8, label='Asian AUC=%0.2f' % roc_auc_a)\n",
    "plt.plot(fpr_b, tpr_b, lw=1.5, alpha=.8, label='Black AUC=%0.2f' % roc_auc_b)\n",
    "ax.plot([0, 1], [0, 1], linestyle='--', lw=1.5, color='k', label='Chance', alpha=.8)\n",
    "plt.xlabel('False Positive Rate', fontsize=14)\n",
    "plt.ylabel('True Positive Rate', fontsize=14)\n",
    "plt.legend(loc=\"lower right\", fontsize=12)\n",
    "plt.title('Sex Classification', fontsize=14)\n",
    "ax.set(xlim=[-0.05, 1.05], ylim=[-0.05, 1.05])\n",
    "\n",
    "# fig.savefig(\"CNN-sex.png\", bbox_inches='tight', dpi=300)"
   ]
  },
  {
   "cell_type": "markdown",
   "id": "25a24178",
   "metadata": {
    "papermill": {
     "duration": 0.015848,
     "end_time": "2023-07-12T08:36:10.963333",
     "exception": false,
     "start_time": "2023-07-12T08:36:10.947485",
     "status": "completed"
    },
    "tags": []
   },
   "source": [
    "## Disease classification (multi-label)"
   ]
  },
  {
   "cell_type": "code",
   "execution_count": null,
   "id": "7d0265b5",
   "metadata": {
    "execution": {
     "iopub.execute_input": "2023-07-12T08:36:11.057393Z",
     "iopub.status.busy": "2023-07-12T08:36:11.056944Z",
     "iopub.status.idle": "2023-07-12T08:36:11.567864Z",
     "shell.execute_reply": "2023-07-12T08:36:11.568203Z"
    },
    "papermill": {
     "duration": 0.589504,
     "end_time": "2023-07-12T08:36:11.568318",
     "exception": false,
     "start_time": "2023-07-12T08:36:10.978814",
     "status": "completed"
    },
    "tags": []
   },
   "outputs": [
    {
     "ename": "",
     "evalue": "",
     "output_type": "error",
     "traceback": [
      "\u001b[1;31mRunning cells with '/usr/bin/python' requires the ipykernel package.\n",
      "\u001b[1;31mRun the following command to install 'ipykernel' into the Python environment. \n",
      "\u001b[1;31mCommand: '/usr/bin/python -m pip install ipykernel -U --user --force-reinstall'"
     ]
    }
   ],
   "source": [
    "data_dir = '/homes/sea22/MSC_PROJECT/main/chex-aIchemy/train/results/densenet-imagenet-None-0.0001-test/'\n",
    "\n",
    "cnn_pred_disease = pd.read_csv(data_dir + 'predictions_test_disease.csv')"
   ]
  },
  {
   "cell_type": "code",
   "execution_count": null,
   "id": "b7f1ad77",
   "metadata": {
    "execution": {
     "iopub.execute_input": "2023-07-12T08:36:11.605527Z",
     "iopub.status.busy": "2023-07-12T08:36:11.605069Z",
     "iopub.status.idle": "2023-07-12T08:36:11.606300Z",
     "shell.execute_reply": "2023-07-12T08:36:11.606665Z"
    },
    "papermill": {
     "duration": 0.021081,
     "end_time": "2023-07-12T08:36:11.606738",
     "exception": false,
     "start_time": "2023-07-12T08:36:11.585657",
     "status": "completed"
    },
    "tags": []
   },
   "outputs": [
    {
     "ename": "",
     "evalue": "",
     "output_type": "error",
     "traceback": [
      "\u001b[1;31mRunning cells with '/usr/bin/python' requires the ipykernel package.\n",
      "\u001b[1;31mRun the following command to install 'ipykernel' into the Python environment. \n",
      "\u001b[1;31mCommand: '/usr/bin/python -m pip install ipykernel -U --user --force-reinstall'"
     ]
    }
   ],
   "source": [
    "labels = [\n",
    "    'No Finding',\n",
    "    'Enlarged Cardiomediastinum',\n",
    "    'Cardiomegaly',\n",
    "    'Lung Opacity',\n",
    "    'Lung Lesion',\n",
    "    'Edema',\n",
    "    'Consolidation',\n",
    "    'Pneumonia',\n",
    "    'Atelectasis',\n",
    "    'Pneumothorax',\n",
    "    'Pleural Effusion',\n",
    "    'Pleural Other',\n",
    "    'Fracture',\n",
    "    'Support Devices']"
   ]
  },
  {
   "cell_type": "code",
   "execution_count": null,
   "id": "0a6ccd10",
   "metadata": {
    "execution": {
     "iopub.execute_input": "2023-07-12T08:36:11.642186Z",
     "iopub.status.busy": "2023-07-12T08:36:11.641459Z",
     "iopub.status.idle": "2023-07-12T08:36:11.643491Z",
     "shell.execute_reply": "2023-07-12T08:36:11.643862Z"
    },
    "papermill": {
     "duration": 0.021224,
     "end_time": "2023-07-12T08:36:11.643962",
     "exception": false,
     "start_time": "2023-07-12T08:36:11.622738",
     "status": "completed"
    },
    "tags": []
   },
   "outputs": [
    {
     "ename": "",
     "evalue": "",
     "output_type": "error",
     "traceback": [
      "\u001b[1;31mRunning cells with '/usr/bin/python' requires the ipykernel package.\n",
      "\u001b[1;31mRun the following command to install 'ipykernel' into the Python environment. \n",
      "\u001b[1;31mCommand: '/usr/bin/python -m pip install ipykernel -U --user --force-reinstall'"
     ]
    }
   ],
   "source": [
    "label = 10    # No finding\n",
    "#label = 10 # Pleural effusion\n",
    "print(labels[label])"
   ]
  },
  {
   "cell_type": "code",
   "execution_count": null,
   "id": "7693bf85",
   "metadata": {
    "execution": {
     "iopub.execute_input": "2023-07-12T08:36:11.680756Z",
     "iopub.status.busy": "2023-07-12T08:36:11.680377Z",
     "iopub.status.idle": "2023-07-12T08:36:11.816216Z",
     "shell.execute_reply": "2023-07-12T08:36:11.816540Z"
    },
    "papermill": {
     "duration": 0.155952,
     "end_time": "2023-07-12T08:36:11.816656",
     "exception": false,
     "start_time": "2023-07-12T08:36:11.660704",
     "status": "completed"
    },
    "tags": []
   },
   "outputs": [
    {
     "ename": "",
     "evalue": "",
     "output_type": "error",
     "traceback": [
      "\u001b[1;31mRunning cells with '/usr/bin/python' requires the ipykernel package.\n",
      "\u001b[1;31mRun the following command to install 'ipykernel' into the Python environment. \n",
      "\u001b[1;31mCommand: '/usr/bin/python -m pip install ipykernel -U --user --force-reinstall'"
     ]
    }
   ],
   "source": [
    "cnn_pred_disease['race'] = df['race']\n",
    "cnn_pred_disease['sex'] = df['sex']\n",
    "cnn_pred_disease['age'] = df['age']\n",
    "cnn_pred_disease[labels[label]] = df[labels[label]]\n",
    "\n",
    "# subgroups\n",
    "cnn_pred_m = cnn_pred_disease[cnn_pred_disease['sex'] == 'Male'].copy()\n",
    "cnn_pred_f = cnn_pred_disease[cnn_pred_disease['sex'] == 'Female'].copy()\n",
    "cnn_pred_w = cnn_pred_disease[cnn_pred_disease['race'] == white].copy()\n",
    "cnn_pred_a = cnn_pred_disease[cnn_pred_disease['race'] == asian].copy()\n",
    "cnn_pred_b = cnn_pred_disease[cnn_pred_disease['race'] == black].copy()"
   ]
  },
  {
   "cell_type": "code",
   "execution_count": null,
   "id": "3aba03d0",
   "metadata": {
    "execution": {
     "iopub.execute_input": "2023-07-12T08:36:11.854911Z",
     "iopub.status.busy": "2023-07-12T08:36:11.854520Z",
     "iopub.status.idle": "2023-07-12T08:36:11.857224Z",
     "shell.execute_reply": "2023-07-12T08:36:11.857587Z"
    },
    "papermill": {
     "duration": 0.024057,
     "end_time": "2023-07-12T08:36:11.857668",
     "exception": false,
     "start_time": "2023-07-12T08:36:11.833611",
     "status": "completed"
    },
    "tags": []
   },
   "outputs": [
    {
     "ename": "",
     "evalue": "",
     "output_type": "error",
     "traceback": [
      "\u001b[1;31mRunning cells with '/usr/bin/python' requires the ipykernel package.\n",
      "\u001b[1;31mRun the following command to install 'ipykernel' into the Python environment. \n",
      "\u001b[1;31mCommand: '/usr/bin/python -m pip install ipykernel -U --user --force-reinstall'"
     ]
    }
   ],
   "source": [
    "preds = cnn_pred_disease['class_' + str(label)]\n",
    "targets = np.array(cnn_pred_disease['target_' + str(label)])\n",
    "\n",
    "preds_m = cnn_pred_m['class_' + str(label)]\n",
    "targets_m = np.array(cnn_pred_m['target_' + str(label)])\n",
    "\n",
    "preds_f = cnn_pred_f['class_' + str(label)]\n",
    "targets_f = np.array(cnn_pred_f['target_' + str(label)])\n",
    "\n",
    "preds_w = cnn_pred_w['class_' + str(label)]\n",
    "targets_w = np.array(cnn_pred_w['target_' + str(label)])\n",
    "\n",
    "preds_a = cnn_pred_a['class_' + str(label)]\n",
    "targets_a = np.array(cnn_pred_a['target_' + str(label)])\n",
    "\n",
    "preds_b = cnn_pred_b['class_' + str(label)]\n",
    "targets_b = np.array(cnn_pred_b['target_' + str(label)])"
   ]
  },
  {
   "cell_type": "code",
   "execution_count": null,
   "id": "46eb8ee1",
   "metadata": {
    "execution": {
     "iopub.execute_input": "2023-07-12T08:36:11.894054Z",
     "iopub.status.busy": "2023-07-12T08:36:11.893666Z",
     "iopub.status.idle": "2023-07-12T08:36:11.945176Z",
     "shell.execute_reply": "2023-07-12T08:36:11.945477Z"
    },
    "papermill": {
     "duration": 0.071766,
     "end_time": "2023-07-12T08:36:11.945577",
     "exception": false,
     "start_time": "2023-07-12T08:36:11.873811",
     "status": "completed"
    },
    "tags": []
   },
   "outputs": [
    {
     "ename": "",
     "evalue": "",
     "output_type": "error",
     "traceback": [
      "\u001b[1;31mRunning cells with '/usr/bin/python' requires the ipykernel package.\n",
      "\u001b[1;31mRun the following command to install 'ipykernel' into the Python environment. \n",
      "\u001b[1;31mCommand: '/usr/bin/python -m pip install ipykernel -U --user --force-reinstall'"
     ]
    }
   ],
   "source": [
    "target_fpr = 0.2\n",
    "\n",
    "fpr, tpr, thres = roc_curve(targets, preds)\n",
    "fpr_w, tpr_w, thres_w = roc_curve(targets_w, preds_w)\n",
    "fpr_a, tpr_a, thres_a = roc_curve(targets_a, preds_a)\n",
    "fpr_b, tpr_b, thres_b = roc_curve(targets_b, preds_b)\n",
    "fpr_m, tpr_m, thres_m = roc_curve(targets_m, preds_m)\n",
    "fpr_f, tpr_f, thres_f = roc_curve(targets_f, preds_f)\n",
    "\n",
    "roc_auc = auc(fpr, tpr)\n",
    "roc_auc_w = auc(fpr_w, tpr_w)\n",
    "roc_auc_a = auc(fpr_a, tpr_a)\n",
    "roc_auc_b = auc(fpr_b, tpr_b)\n",
    "roc_auc_m = auc(fpr_m, tpr_m)\n",
    "roc_auc_f = auc(fpr_f, tpr_f)\n",
    "\n",
    "# global threshold\n",
    "op = thres[np.argmin(np.abs(fpr-target_fpr))]\n",
    "\n",
    "print('All \\t Threshold %0.4f' % op)"
   ]
  },
  {
   "cell_type": "code",
   "execution_count": null,
   "id": "627096be",
   "metadata": {
    "execution": {
     "iopub.execute_input": "2023-07-12T08:36:11.984442Z",
     "iopub.status.busy": "2023-07-12T08:36:11.984058Z",
     "iopub.status.idle": "2023-07-12T08:36:12.248884Z",
     "shell.execute_reply": "2023-07-12T08:36:12.249217Z"
    },
    "papermill": {
     "duration": 0.286465,
     "end_time": "2023-07-12T08:36:12.249325",
     "exception": false,
     "start_time": "2023-07-12T08:36:11.962860",
     "status": "completed"
    },
    "tags": []
   },
   "outputs": [
    {
     "ename": "",
     "evalue": "",
     "output_type": "error",
     "traceback": [
      "\u001b[1;31mRunning cells with '/usr/bin/python' requires the ipykernel package.\n",
      "\u001b[1;31mRun the following command to install 'ipykernel' into the Python environment. \n",
      "\u001b[1;31mCommand: '/usr/bin/python -m pip install ipykernel -U --user --force-reinstall'"
     ]
    }
   ],
   "source": [
    "# APPLYING GLOBAL THRESHOLD\n",
    "fpr_t = 1 - recall_score(targets, preds>=op, pos_label=0)\n",
    "tpr_t = recall_score(targets, preds>=op, pos_label=1)\n",
    "\n",
    "fpr_t_w = 1 - recall_score(targets_w, preds_w>=op, pos_label=0)\n",
    "tpr_t_w = recall_score(targets_w, preds_w>=op, pos_label=1)\n",
    "\n",
    "fpr_t_a = 1 - recall_score(targets_a, preds_a>=op, pos_label=0)\n",
    "tpr_t_a = recall_score(targets_a, preds_a>=op, pos_label=1)\n",
    "\n",
    "fpr_t_b = 1 - recall_score(targets_b, preds_b>=op, pos_label=0)\n",
    "tpr_t_b = recall_score(targets_b, preds_b>=op, pos_label=1)\n",
    "\n",
    "fpr_t_f = 1 - recall_score(targets_f, preds_f>=op, pos_label=0)\n",
    "tpr_t_f = recall_score(targets_f, preds_f>=op, pos_label=1)\n",
    "\n",
    "fpr_t_m = 1 - recall_score(targets_m, preds_m>=op, pos_label=0)\n",
    "tpr_t_m = recall_score(targets_m, preds_m>=op, pos_label=1)"
   ]
  },
  {
   "cell_type": "code",
   "execution_count": null,
   "id": "a7d63c0c",
   "metadata": {
    "execution": {
     "iopub.execute_input": "2023-07-12T08:36:12.294942Z",
     "iopub.status.busy": "2023-07-12T08:36:12.293270Z",
     "iopub.status.idle": "2023-07-12T08:36:12.631641Z",
     "shell.execute_reply": "2023-07-12T08:36:12.631952Z"
    },
    "papermill": {
     "duration": 0.365351,
     "end_time": "2023-07-12T08:36:12.632059",
     "exception": false,
     "start_time": "2023-07-12T08:36:12.266708",
     "status": "completed"
    },
    "tags": []
   },
   "outputs": [
    {
     "ename": "",
     "evalue": "",
     "output_type": "error",
     "traceback": [
      "\u001b[1;31mRunning cells with '/usr/bin/python' requires the ipykernel package.\n",
      "\u001b[1;31mRun the following command to install 'ipykernel' into the Python environment. \n",
      "\u001b[1;31mCommand: '/usr/bin/python -m pip install ipykernel -U --user --force-reinstall'"
     ]
    }
   ],
   "source": [
    "fig, ax = plt.subplots(figsize=(7,4))\n",
    "plt.plot(fpr_w, tpr_w, lw=1.5, alpha=.8, label='White AUC=%0.2f' % roc_auc_w)\n",
    "plt.plot(fpr_a, tpr_a, lw=1.5, alpha=.8, label='Asian AUC=%0.2f' % roc_auc_a)\n",
    "plt.plot(fpr_b, tpr_b, lw=1.5, alpha=.8, label='Black AUC=%0.2f' % roc_auc_b)\n",
    "plt.plot(fpr_f, tpr_f, lw=1.5, alpha=.8, label='Female AUC=%0.2f' % roc_auc_f)\n",
    "plt.plot(fpr_m, tpr_m, lw=1.5, alpha=.8, label='Male AUC=%0.2f' % roc_auc_m)\n",
    "\n",
    "plt.gca().set_prop_cycle(None)\n",
    "\n",
    "plt.plot(fpr_t_w, tpr_t_w, 'X', alpha=.8, markersize=10, label='TPR=%0.2f FPR=%0.2f' % (tpr_t_w,fpr_t_w))\n",
    "plt.plot(fpr_t_a, tpr_t_a, 'X', alpha=.8, markersize=10, label='TPR=%0.2f FPR=%0.2f' % (tpr_t_a,fpr_t_a))\n",
    "plt.plot(fpr_t_b, tpr_t_b, 'X', alpha=.8, markersize=10, label='TPR=%0.2f FPR=%0.2f' % (tpr_t_b,fpr_t_b))\n",
    "plt.plot(fpr_t_f, tpr_t_f, 'X', alpha=.8, markersize=10, label='TPR=%0.2f FPR=%0.2f' % (tpr_t_f,fpr_t_f))\n",
    "plt.plot(fpr_t_m, tpr_t_m, 'X', alpha=.8, markersize=10, label='TPR=%0.2f FPR=%0.2f' % (tpr_t_m,fpr_t_m))\n",
    "\n",
    "plt.legend(loc=\"lower right\", fontsize=12, ncol=2)\n",
    "title = labels[label] + ' - Original Test-set'\n",
    "ax.plot([0, 1], [0, 1], linestyle='--', lw=1.5, color='k', label='Chance', alpha=.8)\n",
    "plt.xlabel('False Positive Rate', fontsize=14)\n",
    "plt.ylabel('True Positive Rate', fontsize=14)\n",
    "plt.title(title, fontsize=14)\n",
    "ax.set(xlim=[-0.05, 1.05], ylim=[-0.05, 1.05])\n",
    "\n",
    "plt.show()\n",
    "# fig.savefig(title + '.png', bbox_inches='tight', dpi=300)\n",
    "\n",
    "print('All\\tTPR %0.2f | FPR %0.2f | AUC %0.2f' % (tpr_t,fpr_t,roc_auc))\n",
    "print('White\\tTPR %0.2f | FPR %0.2f | AUC %0.2f' % (tpr_t_w,fpr_t_w,roc_auc_w))\n",
    "print('Asian\\tTPR %0.2f | FPR %0.2f | AUC %0.2f' % (tpr_t_a,fpr_t_a,roc_auc_a))\n",
    "print('Black\\tTPR %0.2f | FPR %0.2f | AUC %0.2f' % (tpr_t_b,fpr_t_b,roc_auc_b))\n",
    "print('Female\\tTPR %0.2f | FPR %0.2f | AUC %0.2f' % (tpr_t_f,fpr_t_f,roc_auc_f))\n",
    "print('Male\\tTPR %0.2f | FPR %0.2f | AUC %0.2f' % (tpr_t_m,fpr_t_m,roc_auc_m))"
   ]
  },
  {
   "cell_type": "code",
   "execution_count": null,
   "id": "0b59abb7",
   "metadata": {
    "papermill": {
     "duration": 0.017698,
     "end_time": "2023-07-12T08:36:12.669144",
     "exception": false,
     "start_time": "2023-07-12T08:36:12.651446",
     "status": "completed"
    },
    "tags": []
   },
   "outputs": [
    {
     "ename": "",
     "evalue": "",
     "output_type": "error",
     "traceback": [
      "\u001b[1;31mRunning cells with '/usr/bin/python' requires the ipykernel package.\n",
      "\u001b[1;31mRun the following command to install 'ipykernel' into the Python environment. \n",
      "\u001b[1;31mCommand: '/usr/bin/python -m pip install ipykernel -U --user --force-reinstall'"
     ]
    }
   ],
   "source": []
  }
 ],
 "metadata": {
  "kernelspec": {
   "display_name": "Python 3 (ipykernel)",
   "language": "python",
   "name": "python3"
  },
  "language_info": {
   "codemirror_mode": {
    "name": "ipython",
    "version": 3
   },
   "file_extension": ".py",
   "mimetype": "text/x-python",
   "name": "python",
   "nbconvert_exporter": "python",
   "pygments_lexer": "ipython3",
   "version": "3.10.6"
  },
  "papermill": {
   "default_parameters": {},
   "duration": 40.608844,
   "end_time": "2023-07-12T08:36:13.206372",
   "environment_variables": {},
   "exception": null,
   "input_path": "/rds/general/user/sea22/home/adversarial/densenet-all-race-adv/chexpert.predictions.0.ipynb",
   "output_path": "/rds/general/user/sea22/home/adversarial/densenet-all-race-adv/chexpert.predictions.0.ipynb",
   "parameters": {
    "label_num": 0,
    "model_type": "all"
   },
   "start_time": "2023-07-12T08:35:32.597528",
   "version": "2.3.4"
  }
 },
 "nbformat": 4,
 "nbformat_minor": 5
}
